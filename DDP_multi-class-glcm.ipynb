{
 "cells": [
  {
   "cell_type": "code",
   "execution_count": 2,
   "id": "9c4206bc",
   "metadata": {
    "ExecuteTime": {
     "end_time": "2022-05-16T20:28:53.107890Z",
     "start_time": "2022-05-16T20:28:37.741967Z"
    }
   },
   "outputs": [],
   "source": [
    "import os\n",
    "import numpy as np\n",
    "import cv2\n",
    "import imutils\n",
    "import random\n",
    "from math import log10, floor\n",
    "from matplotlib import pyplot as plt"
   ]
  },
  {
   "cell_type": "code",
   "execution_count": 3,
   "id": "2f932ec9",
   "metadata": {
    "ExecuteTime": {
     "end_time": "2022-05-16T20:28:55.532382Z",
     "start_time": "2022-05-16T20:28:55.521032Z"
    }
   },
   "outputs": [],
   "source": [
    "def crop(img):\n",
    "    h,w = img.shape[:2]\n",
    "    imgs=[]\n",
    "    for i in range(0,w-224,20):\n",
    "        for j in range(0, h-224,20):\n",
    "            imgs.append(img[j:j+224, i:i+224])\n",
    "    return imgs\n",
    "\n",
    "def fill(img, h, w):\n",
    "    img = cv2.resize(img, (w, h), cv2.INTER_CUBIC)\n",
    "    return img\n",
    "        \n",
    "def horizontal_shift(img, ratio=0.0):\n",
    "    if ratio > 1 or ratio < -1:\n",
    "        print('Value should be less than 1 and greater than 0')\n",
    "        return img\n",
    "    h, w = img.shape\n",
    "    to_shift = w*ratio\n",
    "    if ratio > 0:\n",
    "        img = img[:, :int(w-to_shift)]\n",
    "    if ratio < 0:\n",
    "        img = img[:, int(-1*to_shift):]  \n",
    "    img = fill(img, h, w)\n",
    "    return img\n",
    "\n",
    "def vertical_shift(img, ratio=0.0):\n",
    "    if ratio > 1 or ratio < -1:\n",
    "        print('Value should be less than 1 and greater than 0')\n",
    "        return img\n",
    "    h, w = img.shape\n",
    "    to_shift = h*ratio\n",
    "    if ratio > 0:\n",
    "        img = img[:int(h-to_shift), :]\n",
    "    if ratio < 0:\n",
    "        img = img[int(-1*to_shift):, :]\n",
    "    img = fill(img, h, w)\n",
    "    return img\n",
    "\n",
    "def zoom(img, value):\n",
    "    if value > 1 or value < 0:\n",
    "        print('Value for zoom should be less than 1 and greater than 0')\n",
    "        return img\n",
    "    h, w = img.shape\n",
    "    h_taken = int(value*h)\n",
    "    w_taken = int(value*w)\n",
    "    h_start = random.randint(0, h-h_taken)\n",
    "    w_start = random.randint(0, w-w_taken)\n",
    "    img = img[h_start:h_start+h_taken, w_start:w_start+w_taken]\n",
    "    img = fill(img, h, w)\n",
    "    return img\n",
    "\n",
    "def horizontal_flip(img):\n",
    "    return cv2.flip(img, 1)\n",
    "\n",
    "def vertical_flip(img):\n",
    "    return cv2.flip(img, 0)\n",
    "\n",
    "def rotation(img, angle):\n",
    "    h, w = img.shape[:2]\n",
    "    M = cv2.getRotationMatrix2D((int(w/2), int(h/2)), angle, 1)\n",
    "    img = cv2.warpAffine(img, M, (w, h))\n",
    "    return img\n",
    "\n",
    "def highpass(img, sigma):\n",
    "    return img - cv2.GaussianBlur(img, (0,0), sigma) + 127\n",
    "\n",
    "def hist_sliding(img):\n",
    "    clahe = cv2.createCLAHE(clipLimit=2.0, tileGridSize=(8,8))\n",
    "    return clahe.apply(img)"
   ]
  },
  {
   "cell_type": "markdown",
   "id": "f128ac96",
   "metadata": {},
   "source": [
    "## Preprocessing\n",
    "### Crop pics into 224x224"
   ]
  },
  {
   "cell_type": "code",
   "execution_count": 18,
   "id": "29c1308b",
   "metadata": {
    "scrolled": true
   },
   "outputs": [],
   "source": [
    "for i in range(1,7):\n",
    "    dir_list = os.listdir(f\"Dataset2/{i}\")\n",
    "    count=0\n",
    "    for img_file in dir_list:\n",
    "        img = cv2.imread(f\"Dataset2/{i}/{img_file}\")\n",
    "        imgs = crop(img)\n",
    "        \n",
    "        for k in range(len(imgs)):\n",
    "            cv2.imwrite(f\"Dataset2/{i}/{count}.jpg\", imgs[k])\n",
    "            count+=1"
   ]
  },
  {
   "cell_type": "markdown",
   "id": "d10b5844",
   "metadata": {},
   "source": [
    "### Augmentation"
   ]
  },
  {
   "cell_type": "code",
   "execution_count": 19,
   "id": "cb690e3f",
   "metadata": {},
   "outputs": [
    {
     "name": "stdout",
     "output_type": "stream",
     "text": [
      "1, 2, 3, 4, 5, 6, \n",
      "1, 2, 3, 4, 5, 6, \n",
      "1, 2, 3, 4, 5, 6, "
     ]
    }
   ],
   "source": [
    "### Horizontal Flip\n",
    "for i in range(1,7):\n",
    "    dir_list = os.listdir(f\"Dataset2/{i}\")\n",
    "    n=len(dir_list)\n",
    "    print(i,end=\", \")\n",
    "    for img_file in dir_list:\n",
    "        img = cv2.imread(f\"Dataset2/{i}/{img_file}\")\n",
    "        img = horizontal_flip(img)\n",
    "        cv2.imwrite(f\"Dataset2/{i}/{n+int(img_file.split('.')[0])}.jpg\", img)\n",
    "print()   \n",
    "### Vertical Flip\n",
    "for i in range(1,7):\n",
    "    dir_list = os.listdir(f\"Dataset2/{i}\")\n",
    "    n=len(dir_list)\n",
    "    print(i, end=\", \")\n",
    "    for img_file in dir_list:\n",
    "        img = cv2.imread(f\"Dataset2/{i}/{img_file}\")\n",
    "        img = horizontal_flip(img)\n",
    "        cv2.imwrite(f\"Dataset2/{i}/{n+int(img_file.split('.')[0])}.jpg\", img)\n",
    "print()\n",
    "### Rotation by 90 degree\n",
    "for i in range(1,7):\n",
    "    dir_list = os.listdir(f\"Dataset2/{i}\")\n",
    "    n=len(dir_list)\n",
    "    print(i, end=\", \")\n",
    "    for img_file in dir_list:\n",
    "        img = cv2.imread(f\"Dataset2/{i}/{img_file}\")\n",
    "        img = horizontal_flip(img)\n",
    "        cv2.imwrite(f\"Dataset2/{i}/{n+int(img_file.split('.')[0])}.jpg\", img)"
   ]
  },
  {
   "cell_type": "markdown",
   "id": "f8eeb533",
   "metadata": {},
   "source": [
    "## GLCM"
   ]
  },
  {
   "cell_type": "code",
   "execution_count": 4,
   "id": "12723fd5",
   "metadata": {
    "ExecuteTime": {
     "end_time": "2022-05-16T22:06:33.499905Z",
     "start_time": "2022-05-16T20:29:22.054320Z"
    }
   },
   "outputs": [
    {
     "name": "stdout",
     "output_type": "stream",
     "text": [
      "1\n",
      "2\n",
      "3\n",
      "4\n",
      "5\n",
      "6\n",
      "(30000, 84) (30000,)\n"
     ]
    }
   ],
   "source": [
    "from skimage.feature import graycomatrix, graycoprops\n",
    "from skimage.measure import shannon_entropy\n",
    "\n",
    "X = []; y = []\n",
    "for i in range(1,7):\n",
    "    dir_list = os.listdir(f\"Dataset2/{i}\")\n",
    "    n = len(dir_list)\n",
    "    print(i)\n",
    "    for j in range(5000):\n",
    "        img_file = dir_list[j]\n",
    "        distances = [1, 2, 3]\n",
    "        angles = [0, np.pi/6, np.pi/3, np.pi/2]\n",
    "        properties = ['contrast', 'dissimilarity', 'homogeneity', 'energy', 'correlation', 'ASM']\n",
    "        y.append(i)\n",
    "        img = cv2.imread(f\"Dataset2/{i}/{img_file}\")\n",
    "        img = cv2.cvtColor(img, cv2.COLOR_RGB2GRAY)\n",
    "        glcm = graycomatrix(img, distances=distances, angles=angles, symmetric=True, normed=True)\n",
    "\n",
    "        feats = np.hstack([graycoprops(glcm, prop).ravel() for prop in properties])\n",
    "        entropy = [shannon_entropy(glcm[:,:,a,b]) for a in range(len(distances)) for b in range(len(angles))]\n",
    "        feats = np.hstack((feats, entropy))\n",
    "\n",
    "        X.append(feats)\n",
    "\n",
    "X = np.array(X)\n",
    "y = np.array(y)         \n",
    "print(X.shape, y.shape)\n"
   ]
  },
  {
   "cell_type": "code",
   "execution_count": 5,
   "id": "ff98697d",
   "metadata": {
    "ExecuteTime": {
     "end_time": "2022-05-16T22:09:55.360785Z",
     "start_time": "2022-05-16T22:09:46.792845Z"
    }
   },
   "outputs": [],
   "source": [
    "np.savetxt(\"Dataset2/dataset_x.csv\", X, delimiter=\",\")\n",
    "np.savetxt(\"Dataset2/dataset_y.csv\", y, delimiter=\",\")\n",
    "np.savetxt(\"Dataset2/dataset.csv\", np.hstack((X,y.reshape(30000,1))), delimiter=\",\")"
   ]
  },
  {
   "cell_type": "markdown",
   "id": "58190b58",
   "metadata": {},
   "source": [
    "## Models"
   ]
  },
  {
   "cell_type": "code",
   "execution_count": 6,
   "id": "58a22765",
   "metadata": {
    "ExecuteTime": {
     "end_time": "2022-05-16T22:10:13.662302Z",
     "start_time": "2022-05-16T22:10:04.710144Z"
    }
   },
   "outputs": [
    {
     "name": "stdout",
     "output_type": "stream",
     "text": [
      "(30000, 84) (30000, 1)\n",
      "(24000, 84) (6000, 84) (24000, 1) (6000, 1)\n"
     ]
    }
   ],
   "source": [
    "import pandas as pd\n",
    "import joblib\n",
    "from sklearn.model_selection import train_test_split\n",
    "from sklearn.metrics import accuracy_score, confusion_matrix, classification_report\n",
    "from sklearn.preprocessing import StandardScaler\n",
    "\n",
    "dataset = pd.read_csv('Dataset2/dataset.csv', header=None)\n",
    "X = dataset.iloc[:,:-1].values\n",
    "y = dataset.iloc[:,-1:].values\n",
    "\n",
    "print(X.shape, y.shape)\n",
    "X_train, X_test, y_train, y_test = train_test_split(X, y, stratify=y, test_size=0.2)\n",
    "print(X_train.shape, X_test.shape, y_train.shape, y_test.shape)\n",
    "\n",
    "sc = StandardScaler()\n",
    "X_train = sc.fit_transform(X_train)\n",
    "X_test = sc.transform(X_test)"
   ]
  },
  {
   "cell_type": "markdown",
   "id": "9b9d21da",
   "metadata": {},
   "source": [
    "### SVM"
   ]
  },
  {
   "cell_type": "code",
   "execution_count": 7,
   "id": "9d4892a0",
   "metadata": {
    "ExecuteTime": {
     "end_time": "2022-05-16T22:11:10.188217Z",
     "start_time": "2022-05-16T22:10:37.175385Z"
    }
   },
   "outputs": [
    {
     "name": "stdout",
     "output_type": "stream",
     "text": [
      "              precision    recall  f1-score   support\n",
      "\n",
      "           1    0.95077   0.92700   0.93873      1000\n",
      "           2    1.00000   1.00000   1.00000      1000\n",
      "           3    0.97460   0.92100   0.94704      1000\n",
      "           4    0.92122   0.99400   0.95623      1000\n",
      "           5    0.99794   0.96800   0.98274      1000\n",
      "           6    0.93598   0.96500   0.95027      1000\n",
      "\n",
      "    accuracy                        0.96250      6000\n",
      "   macro avg    0.96342   0.96250   0.96250      6000\n",
      "weighted avg    0.96342   0.96250   0.96250      6000\n",
      "\n",
      "[[ 927    0    9    0    1   63]\n",
      " [   0 1000    0    0    0    0]\n",
      " [  13    0  921   66    0    0]\n",
      " [   0    0    5  994    1    0]\n",
      " [   4    0    7   18  968    3]\n",
      " [  31    0    3    1    0  965]]\n",
      "ACCURACY OF THE MODEL:  0.9625\n"
     ]
    }
   ],
   "source": [
    "from sklearn.svm import SVC\n",
    "\n",
    "clf = SVC()\n",
    "clf.fit(X_train, y_train.ravel())\n",
    "joblib.dump(clf, \"Models2/svm.joblib\")\n",
    "model = joblib.load(\"Models2/svm.joblib\")\n",
    "y_pred = model.predict(X_test)\n",
    "\n",
    "print(classification_report(y_test, y_pred, target_names=[\"1\",\"2\",\"3\",\"4\",\"5\",\"6\"], digits=5))\n",
    "print(confusion_matrix(y_test, y_pred))\n",
    "print(\"ACCURACY OF THE MODEL: \", accuracy_score(y_test, y_pred))"
   ]
  },
  {
   "cell_type": "markdown",
   "id": "67203b1f",
   "metadata": {},
   "source": [
    "### Decision Tree J48"
   ]
  },
  {
   "cell_type": "code",
   "execution_count": 8,
   "id": "107201ef",
   "metadata": {
    "ExecuteTime": {
     "end_time": "2022-05-16T22:11:50.794345Z",
     "start_time": "2022-05-16T22:11:45.180256Z"
    }
   },
   "outputs": [
    {
     "name": "stdout",
     "output_type": "stream",
     "text": [
      "              precision    recall  f1-score   support\n",
      "\n",
      "           1    0.97140   0.98500   0.97815      1000\n",
      "           2    0.99800   0.99800   0.99800      1000\n",
      "           3    0.96703   0.96800   0.96752      1000\n",
      "           4    0.96439   0.97500   0.96967      1000\n",
      "           5    0.98468   0.96400   0.97423      1000\n",
      "           6    0.98392   0.97900   0.98145      1000\n",
      "\n",
      "    accuracy                        0.97817      6000\n",
      "   macro avg    0.97824   0.97817   0.97817      6000\n",
      "weighted avg    0.97824   0.97817   0.97817      6000\n",
      "\n",
      "[[985   0   4   0   2   9]\n",
      " [  0 998   0   1   1   0]\n",
      " [  7   0 968  23   1   1]\n",
      " [  0   0  17 975   8   0]\n",
      " [  7   2  11  10 964   6]\n",
      " [ 15   0   1   2   3 979]]\n",
      "ACCURACY OF THE MODEL:  0.9781666666666666\n"
     ]
    }
   ],
   "source": [
    "from sklearn.tree import DecisionTreeClassifier\n",
    "\n",
    "clf = DecisionTreeClassifier()\n",
    "clf = clf.fit(X_train,y_train.ravel())\n",
    "joblib.dump(clf, \"Models2/j48.joblib\")\n",
    "model = joblib.load(\"Models2/j48.joblib\")\n",
    "y_pred = model.predict(X_test)\n",
    "\n",
    "print(classification_report(y_test, y_pred, target_names=[\"1\",\"2\",\"3\",\"4\",\"5\",\"6\"], digits=5))\n",
    "print(confusion_matrix(y_test, y_pred))\n",
    "print(\"ACCURACY OF THE MODEL: \", accuracy_score(y_test, y_pred))"
   ]
  },
  {
   "cell_type": "markdown",
   "id": "d677ffbc",
   "metadata": {},
   "source": [
    "### Random Forest"
   ]
  },
  {
   "cell_type": "code",
   "execution_count": 9,
   "id": "55ef5811",
   "metadata": {
    "ExecuteTime": {
     "end_time": "2022-05-16T22:12:24.033968Z",
     "start_time": "2022-05-16T22:12:00.059040Z"
    }
   },
   "outputs": [
    {
     "name": "stdout",
     "output_type": "stream",
     "text": [
      "              precision    recall  f1-score   support\n",
      "\n",
      "           1    0.99499   0.99400   0.99450      1000\n",
      "           2    1.00000   1.00000   1.00000      1000\n",
      "           3    0.99696   0.98500   0.99095      1000\n",
      "           4    0.98225   0.99600   0.98908      1000\n",
      "           5    0.99799   0.99100   0.99448      1000\n",
      "           6    0.99304   0.99900   0.99601      1000\n",
      "\n",
      "    accuracy                        0.99417      6000\n",
      "   macro avg    0.99421   0.99417   0.99417      6000\n",
      "weighted avg    0.99421   0.99417   0.99417      6000\n",
      "\n",
      "[[ 994    0    0    0    0    6]\n",
      " [   0 1000    0    0    0    0]\n",
      " [   4    0  985   11    0    0]\n",
      " [   0    0    2  996    2    0]\n",
      " [   0    0    1    7  991    1]\n",
      " [   1    0    0    0    0  999]]\n",
      "ACCURACY OF THE MODEL:  0.9941666666666666\n"
     ]
    }
   ],
   "source": [
    "from sklearn.ensemble import RandomForestClassifier\n",
    "\n",
    "clf = RandomForestClassifier(n_estimators = 100) \n",
    "clf.fit(X_train, y_train.ravel())\n",
    "joblib.dump(clf, \"Models2/rf.joblib\")\n",
    "model = joblib.load(\"Models2/rf.joblib\")\n",
    "y_pred = model.predict(X_test)\n",
    "\n",
    "print(classification_report(y_test, y_pred, target_names=[\"1\",\"2\",\"3\",\"4\",\"5\",\"6\"], digits=5))\n",
    "print(confusion_matrix(y_test, y_pred))\n",
    "print(\"ACCURACY OF THE MODEL: \", accuracy_score(y_test, y_pred))"
   ]
  },
  {
   "cell_type": "markdown",
   "id": "f8562aac",
   "metadata": {},
   "source": [
    "### ANN"
   ]
  },
  {
   "cell_type": "code",
   "execution_count": 12,
   "id": "48e34a75",
   "metadata": {
    "ExecuteTime": {
     "end_time": "2022-05-16T22:22:50.868383Z",
     "start_time": "2022-05-16T22:20:15.864886Z"
    }
   },
   "outputs": [
    {
     "name": "stdout",
     "output_type": "stream",
     "text": [
      "Epoch 1/50\n",
      "750/750 [==============================] - 4s 5ms/step - loss: 0.1041 - accuracy: 0.8711\n",
      "Epoch 2/50\n",
      "750/750 [==============================] - 2s 3ms/step - loss: 0.0434 - accuracy: 0.9507\n",
      "Epoch 3/50\n",
      "750/750 [==============================] - 4s 5ms/step - loss: 0.0295 - accuracy: 0.9695\n",
      "Epoch 4/50\n",
      "750/750 [==============================] - 3s 4ms/step - loss: 0.0218 - accuracy: 0.9775\n",
      "Epoch 5/50\n",
      "750/750 [==============================] - 3s 5ms/step - loss: 0.0177 - accuracy: 0.9817\n",
      "Epoch 6/50\n",
      "750/750 [==============================] - 3s 4ms/step - loss: 0.0161 - accuracy: 0.9851\n",
      "Epoch 7/50\n",
      "750/750 [==============================] - 3s 5ms/step - loss: 0.0120 - accuracy: 0.9878\n",
      "Epoch 8/50\n",
      "750/750 [==============================] - 3s 4ms/step - loss: 0.0117 - accuracy: 0.9880\n",
      "Epoch 9/50\n",
      "750/750 [==============================] - 3s 4ms/step - loss: 0.0102 - accuracy: 0.9898\n",
      "Epoch 10/50\n",
      "750/750 [==============================] - 3s 4ms/step - loss: 0.0102 - accuracy: 0.9894\n",
      "Epoch 11/50\n",
      "750/750 [==============================] - 4s 5ms/step - loss: 0.0092 - accuracy: 0.9911\n",
      "Epoch 12/50\n",
      "750/750 [==============================] - 4s 5ms/step - loss: 0.0072 - accuracy: 0.9912\n",
      "Epoch 13/50\n",
      "750/750 [==============================] - 4s 5ms/step - loss: 0.0077 - accuracy: 0.9923\n",
      "Epoch 14/50\n",
      "750/750 [==============================] - 3s 4ms/step - loss: 0.0100 - accuracy: 0.9923\n",
      "Epoch 15/50\n",
      "750/750 [==============================] - 3s 3ms/step - loss: 0.0069 - accuracy: 0.9926\n",
      "Epoch 16/50\n",
      "750/750 [==============================] - 3s 4ms/step - loss: 0.0058 - accuracy: 0.9942\n",
      "Epoch 17/50\n",
      "750/750 [==============================] - 4s 5ms/step - loss: 0.0067 - accuracy: 0.9928\n",
      "Epoch 18/50\n",
      "750/750 [==============================] - 3s 4ms/step - loss: 0.0065 - accuracy: 0.9942\n",
      "Epoch 19/50\n",
      "750/750 [==============================] - 2s 2ms/step - loss: 0.0052 - accuracy: 0.9943\n",
      "Epoch 20/50\n",
      "750/750 [==============================] - 4s 5ms/step - loss: 0.0057 - accuracy: 0.9945\n",
      "Epoch 21/50\n",
      "750/750 [==============================] - 3s 4ms/step - loss: 0.0057 - accuracy: 0.9942\n",
      "Epoch 22/50\n",
      "750/750 [==============================] - 3s 5ms/step - loss: 0.0051 - accuracy: 0.9948\n",
      "Epoch 23/50\n",
      "750/750 [==============================] - 3s 4ms/step - loss: 0.0048 - accuracy: 0.9948\n",
      "Epoch 24/50\n",
      "750/750 [==============================] - 3s 4ms/step - loss: 0.0052 - accuracy: 0.9946\n",
      "Epoch 25/50\n",
      "750/750 [==============================] - 3s 5ms/step - loss: 0.0059 - accuracy: 0.9947\n",
      "Epoch 26/50\n",
      "750/750 [==============================] - 2s 3ms/step - loss: 0.0051 - accuracy: 0.9950\n",
      "Epoch 27/50\n",
      "750/750 [==============================] - 3s 4ms/step - loss: 0.0037 - accuracy: 0.9958\n",
      "Epoch 28/50\n",
      "750/750 [==============================] - 3s 4ms/step - loss: 0.0041 - accuracy: 0.9958\n",
      "Epoch 29/50\n",
      "750/750 [==============================] - 3s 4ms/step - loss: 0.0052 - accuracy: 0.9951\n",
      "Epoch 30/50\n",
      "750/750 [==============================] - 3s 4ms/step - loss: 0.0035 - accuracy: 0.9966\n",
      "Epoch 31/50\n",
      "750/750 [==============================] - 2s 3ms/step - loss: 0.0047 - accuracy: 0.9952\n",
      "Epoch 32/50\n",
      "750/750 [==============================] - 3s 4ms/step - loss: 0.0042 - accuracy: 0.9958\n",
      "Epoch 33/50\n",
      "750/750 [==============================] - 3s 4ms/step - loss: 0.0047 - accuracy: 0.9957\n",
      "Epoch 34/50\n",
      "750/750 [==============================] - 2s 3ms/step - loss: 0.0029 - accuracy: 0.9970\n",
      "Epoch 35/50\n",
      "750/750 [==============================] - 3s 4ms/step - loss: 0.0068 - accuracy: 0.9945\n",
      "Epoch 36/50\n",
      "750/750 [==============================] - 4s 5ms/step - loss: 0.0032 - accuracy: 0.9965\n",
      "Epoch 37/50\n",
      "750/750 [==============================] - 3s 5ms/step - loss: 0.0030 - accuracy: 0.9969\n",
      "Epoch 38/50\n",
      "750/750 [==============================] - 4s 5ms/step - loss: 0.0034 - accuracy: 0.9964\n",
      "Epoch 39/50\n",
      "750/750 [==============================] - 3s 4ms/step - loss: 0.0037 - accuracy: 0.9967\n",
      "Epoch 40/50\n",
      "750/750 [==============================] - 2s 3ms/step - loss: 0.0052 - accuracy: 0.9957\n",
      "Epoch 41/50\n",
      "750/750 [==============================] - 3s 3ms/step - loss: 0.0028 - accuracy: 0.9970\n",
      "Epoch 42/50\n",
      "750/750 [==============================] - 2s 2ms/step - loss: 0.0029 - accuracy: 0.9967\n",
      "Epoch 43/50\n",
      "750/750 [==============================] - 3s 4ms/step - loss: 0.0044 - accuracy: 0.9965\n",
      "Epoch 44/50\n",
      "750/750 [==============================] - 2s 3ms/step - loss: 0.0025 - accuracy: 0.9973\n",
      "Epoch 45/50\n",
      "750/750 [==============================] - 3s 3ms/step - loss: 0.0051 - accuracy: 0.9961\n",
      "Epoch 46/50\n",
      "750/750 [==============================] - 4s 5ms/step - loss: 0.0034 - accuracy: 0.9977\n",
      "Epoch 47/50\n",
      "750/750 [==============================] - 3s 4ms/step - loss: 0.0020 - accuracy: 0.9980\n",
      "Epoch 48/50\n",
      "750/750 [==============================] - 3s 5ms/step - loss: 0.0025 - accuracy: 0.9971\n",
      "Epoch 49/50\n",
      "750/750 [==============================] - 3s 4ms/step - loss: 0.0026 - accuracy: 0.9972\n",
      "Epoch 50/50\n",
      "750/750 [==============================] - 3s 4ms/step - loss: 0.0052 - accuracy: 0.9962\n"
     ]
    },
    {
     "data": {
      "text/plain": [
       "<keras.callbacks.History at 0x7fdca7df7d30>"
      ]
     },
     "execution_count": 12,
     "metadata": {},
     "output_type": "execute_result"
    }
   ],
   "source": [
    "import tensorflow as tf\n",
    "from tensorflow.keras.callbacks import ModelCheckpoint\n",
    "\n",
    "y_train_new = []\n",
    "for y in y_train:\n",
    "    if y==1:\n",
    "        y_train_new.append([1,0,0,0,0,0])\n",
    "    if y==2:\n",
    "        y_train_new.append([0,1,0,0,0,0])\n",
    "    if y==3:\n",
    "        y_train_new.append([0,0,1,0,0,0])\n",
    "    if y==4:\n",
    "        y_train_new.append([0,0,0,1,0,0])\n",
    "    if y==5:\n",
    "        y_train_new.append([0,0,0,0,1,0])\n",
    "    if y==6:\n",
    "        y_train_new.append([0,0,0,0,0,1])\n",
    "y_train = np.array(y_train_new)\n",
    "\n",
    "ann = tf.keras.models.Sequential()\n",
    "# Adding layers\n",
    "ann.add(tf.keras.layers.Dense(units=256,activation=\"relu\"))\n",
    "ann.add(tf.keras.layers.Dense(units=64,activation=\"relu\"))\n",
    "ann.add(tf.keras.layers.Dense(units=6,activation=\"sigmoid\"))\n",
    "ann.compile(optimizer=\"adam\",loss=\"binary_crossentropy\",metrics=['accuracy'])\n",
    "\n",
    "checkpoint = ModelCheckpoint('Models2/glcm_ann_{epoch:01d}.h5', save_freq=5*750)\n",
    "ann.fit(X_train,y_train,batch_size=32,epochs = 50, callbacks=[checkpoint] )"
   ]
  },
  {
   "cell_type": "code",
   "execution_count": 30,
   "id": "e9461989",
   "metadata": {
    "ExecuteTime": {
     "end_time": "2022-05-16T22:57:26.874521Z",
     "start_time": "2022-05-16T22:57:24.692120Z"
    }
   },
   "outputs": [
    {
     "name": "stdout",
     "output_type": "stream",
     "text": [
      "(6000,)\n",
      "#####################\n",
      "Model5\n",
      "\n",
      "              precision    recall  f1-score   support\n",
      "\n",
      "           1    0.99492   0.97900   0.98690      1000\n",
      "           2    1.00000   1.00000   1.00000      1000\n",
      "           3    0.97892   0.97500   0.97695      1000\n",
      "           4    0.97624   0.98600   0.98109      1000\n",
      "           5    1.00000   0.99300   0.99649      1000\n",
      "           6    0.98132   0.99800   0.98959      1000\n",
      "\n",
      "    accuracy                        0.98850      6000\n",
      "   macro avg    0.98856   0.98850   0.98850      6000\n",
      "weighted avg    0.98856   0.98850   0.98850      6000\n",
      "\n",
      "[[ 979    0    3    0    0   18]\n",
      " [   0 1000    0    0    0    0]\n",
      " [   3    0  975   22    0    0]\n",
      " [   0    0   14  986    0    0]\n",
      " [   0    0    4    2  993    1]\n",
      " [   2    0    0    0    0  998]]\n",
      "ACCURACY OF THE MODEL:  0.9885\n",
      "\n",
      "(6000,)\n",
      "#####################\n",
      "Model10\n",
      "\n",
      "              precision    recall  f1-score   support\n",
      "\n",
      "           1    0.99302   0.99600   0.99451      1000\n",
      "           2    1.00000   1.00000   1.00000      1000\n",
      "           3    1.00000   0.92700   0.96212      1000\n",
      "           4    0.93371   1.00000   0.96572      1000\n",
      "           5    1.00000   0.99700   0.99850      1000\n",
      "           6    0.99301   0.99500   0.99401      1000\n",
      "\n",
      "    accuracy                        0.98583      6000\n",
      "   macro avg    0.98662   0.98583   0.98581      6000\n",
      "weighted avg    0.98662   0.98583   0.98581      6000\n",
      "\n",
      "[[ 996    0    0    0    0    4]\n",
      " [   0 1000    0    0    0    0]\n",
      " [   2    0  927   71    0    0]\n",
      " [   0    0    0 1000    0    0]\n",
      " [   0    0    0    0  997    3]\n",
      " [   5    0    0    0    0  995]]\n",
      "ACCURACY OF THE MODEL:  0.9858333333333333\n",
      "\n",
      "(6000,)\n",
      "#####################\n",
      "Model15\n",
      "\n",
      "              precision    recall  f1-score   support\n",
      "\n",
      "           1    0.99699   0.99500   0.99600      1000\n",
      "           2    1.00000   1.00000   1.00000      1000\n",
      "           3    1.00000   0.94900   0.97383      1000\n",
      "           4    0.95143   0.99900   0.97463      1000\n",
      "           5    0.99900   1.00000   0.99950      1000\n",
      "           6    0.99501   0.99700   0.99600      1000\n",
      "\n",
      "    accuracy                        0.99000      6000\n",
      "   macro avg    0.99041   0.99000   0.98999      6000\n",
      "weighted avg    0.99041   0.99000   0.98999      6000\n",
      "\n",
      "[[ 995    0    0    0    0    5]\n",
      " [   0 1000    0    0    0    0]\n",
      " [   0    0  949   51    0    0]\n",
      " [   0    0    0  999    1    0]\n",
      " [   0    0    0    0 1000    0]\n",
      " [   3    0    0    0    0  997]]\n",
      "ACCURACY OF THE MODEL:  0.99\n",
      "\n",
      "(6000,)\n",
      "#####################\n",
      "Model20\n",
      "\n",
      "              precision    recall  f1-score   support\n",
      "\n",
      "           1    0.99403   0.99900   0.99651      1000\n",
      "           2    1.00000   1.00000   1.00000      1000\n",
      "           3    0.99401   0.99500   0.99450      1000\n",
      "           4    0.99499   0.99300   0.99399      1000\n",
      "           5    0.99900   1.00000   0.99950      1000\n",
      "           6    0.99899   0.99400   0.99649      1000\n",
      "\n",
      "    accuracy                        0.99683      6000\n",
      "   macro avg    0.99684   0.99683   0.99683      6000\n",
      "weighted avg    0.99684   0.99683   0.99683      6000\n",
      "\n",
      "[[ 999    0    0    0    0    1]\n",
      " [   0 1000    0    0    0    0]\n",
      " [   0    0  995    5    0    0]\n",
      " [   0    0    6  993    1    0]\n",
      " [   0    0    0    0 1000    0]\n",
      " [   6    0    0    0    0  994]]\n",
      "ACCURACY OF THE MODEL:  0.9968333333333333\n",
      "\n",
      "(6000,)\n",
      "#####################\n",
      "Model25\n",
      "\n",
      "              precision    recall  f1-score   support\n",
      "\n",
      "           1    0.99596   0.98700   0.99146      1000\n",
      "           2    1.00000   1.00000   1.00000      1000\n",
      "           3    0.99493   0.98100   0.98792      1000\n",
      "           4    0.98320   0.99500   0.98907      1000\n",
      "           5    0.99206   1.00000   0.99602      1000\n",
      "           6    0.99003   0.99300   0.99151      1000\n",
      "\n",
      "    accuracy                        0.99267      6000\n",
      "   macro avg    0.99270   0.99267   0.99266      6000\n",
      "weighted avg    0.99270   0.99267   0.99266      6000\n",
      "\n",
      "[[ 987    0    3    0    0   10]\n",
      " [   0 1000    0    0    0    0]\n",
      " [   1    0  981   17    1    0]\n",
      " [   0    0    2  995    3    0]\n",
      " [   0    0    0    0 1000    0]\n",
      " [   3    0    0    0    4  993]]\n",
      "ACCURACY OF THE MODEL:  0.9926666666666667\n",
      "\n",
      "(6000,)\n",
      "#####################\n",
      "Model30\n",
      "\n",
      "              precision    recall  f1-score   support\n",
      "\n",
      "           1    0.99900   0.99900   0.99900      1000\n",
      "           2    1.00000   1.00000   1.00000      1000\n",
      "           3    0.94062   0.99800   0.96846      1000\n",
      "           4    0.99790   0.94900   0.97283      1000\n",
      "           5    1.00000   0.98800   0.99396      1000\n",
      "           6    0.99900   0.99900   0.99900      1000\n",
      "\n",
      "    accuracy                        0.98883      6000\n",
      "   macro avg    0.98942   0.98883   0.98888      6000\n",
      "weighted avg    0.98942   0.98883   0.98888      6000\n",
      "\n",
      "[[ 999    0    0    0    0    1]\n",
      " [   0 1000    0    0    0    0]\n",
      " [   0    0  998    2    0    0]\n",
      " [   0    0   51  949    0    0]\n",
      " [   0    0   12    0  988    0]\n",
      " [   1    0    0    0    0  999]]\n",
      "ACCURACY OF THE MODEL:  0.9888333333333333\n",
      "\n",
      "(6000,)\n",
      "#####################\n",
      "Model35\n",
      "\n",
      "              precision    recall  f1-score   support\n",
      "\n",
      "           1    0.99900   0.99800   0.99850      1000\n",
      "           2    1.00000   1.00000   1.00000      1000\n",
      "           3    0.99102   0.99300   0.99201      1000\n",
      "           4    0.99299   0.99100   0.99199      1000\n",
      "           5    1.00000   1.00000   1.00000      1000\n",
      "           6    0.99800   0.99900   0.99850      1000\n",
      "\n",
      "    accuracy                        0.99683      6000\n",
      "   macro avg    0.99683   0.99683   0.99683      6000\n",
      "weighted avg    0.99683   0.99683   0.99683      6000\n",
      "\n",
      "[[ 998    0    0    0    0    2]\n",
      " [   0 1000    0    0    0    0]\n",
      " [   0    0  993    7    0    0]\n",
      " [   0    0    9  991    0    0]\n",
      " [   0    0    0    0 1000    0]\n",
      " [   1    0    0    0    0  999]]\n",
      "ACCURACY OF THE MODEL:  0.9968333333333333\n",
      "\n",
      "(6000,)\n",
      "#####################\n",
      "Model40\n",
      "\n",
      "              precision    recall  f1-score   support\n",
      "\n",
      "           1    0.99900   1.00000   0.99950      1000\n",
      "           2    1.00000   1.00000   1.00000      1000\n",
      "           3    0.99898   0.98300   0.99093      1000\n",
      "           4    0.98327   0.99900   0.99107      1000\n",
      "           5    1.00000   1.00000   1.00000      1000\n",
      "           6    1.00000   0.99900   0.99950      1000\n",
      "\n",
      "    accuracy                        0.99683      6000\n",
      "   macro avg    0.99688   0.99683   0.99683      6000\n",
      "weighted avg    0.99688   0.99683   0.99683      6000\n",
      "\n",
      "[[1000    0    0    0    0    0]\n",
      " [   0 1000    0    0    0    0]\n",
      " [   0    0  983   17    0    0]\n",
      " [   0    0    1  999    0    0]\n",
      " [   0    0    0    0 1000    0]\n",
      " [   1    0    0    0    0  999]]\n",
      "ACCURACY OF THE MODEL:  0.9968333333333333\n",
      "\n",
      "(6000,)\n",
      "#####################\n",
      "Model45\n",
      "\n",
      "              precision    recall  f1-score   support\n",
      "\n",
      "           1    1.00000   0.99000   0.99497      1000\n",
      "           2    1.00000   1.00000   1.00000      1000\n",
      "           3    0.99102   0.99300   0.99201      1000\n",
      "           4    0.99597   0.98800   0.99197      1000\n",
      "           5    0.98814   1.00000   0.99404      1000\n",
      "           6    0.99602   1.00000   0.99800      1000\n",
      "\n",
      "    accuracy                        0.99517      6000\n",
      "   macro avg    0.99519   0.99517   0.99517      6000\n",
      "weighted avg    0.99519   0.99517   0.99517      6000\n",
      "\n",
      "[[ 990    0    1    0    5    4]\n",
      " [   0 1000    0    0    0    0]\n",
      " [   0    0  993    4    3    0]\n",
      " [   0    0    8  988    4    0]\n",
      " [   0    0    0    0 1000    0]\n",
      " [   0    0    0    0    0 1000]]\n",
      "ACCURACY OF THE MODEL:  0.9951666666666666\n",
      "\n",
      "(6000,)\n",
      "#####################\n",
      "Model50\n",
      "\n",
      "              precision    recall  f1-score   support\n",
      "\n",
      "           1    1.00000   1.00000   1.00000      1000\n",
      "           2    1.00000   1.00000   1.00000      1000\n",
      "           3    0.98221   0.99400   0.98807      1000\n",
      "           4    0.99393   0.98300   0.98844      1000\n",
      "           5    1.00000   0.99900   0.99950      1000\n",
      "           6    1.00000   1.00000   1.00000      1000\n",
      "\n",
      "    accuracy                        0.99600      6000\n",
      "   macro avg    0.99602   0.99600   0.99600      6000\n",
      "weighted avg    0.99602   0.99600   0.99600      6000\n",
      "\n",
      "[[1000    0    0    0    0    0]\n",
      " [   0 1000    0    0    0    0]\n",
      " [   0    0  994    6    0    0]\n",
      " [   0    0   17  983    0    0]\n",
      " [   0    0    1    0  999    0]\n",
      " [   0    0    0    0    0 1000]]\n",
      "ACCURACY OF THE MODEL:  0.996\n",
      "\n"
     ]
    }
   ],
   "source": [
    "for i in range(5,55,5):\n",
    "    model = tf.keras.models.load_model(f\"Models2/glcm_ann_{i}.h5\")\n",
    "    y_pred = model.predict(X_test)\n",
    "    y_pred = np.argmax(y_pred, axis=1)+1\n",
    "    print(y_pred.shape)\n",
    "    print(\"#####################\")\n",
    "    print(f\"Model{i}\")\n",
    "    print()\n",
    "    print(classification_report(y_test, y_pred, target_names=[\"1\",\"2\",\"3\",\"4\",\"5\",\"6\"], digits=5))\n",
    "    print(confusion_matrix(y_test, y_pred))\n",
    "    print(\"ACCURACY OF THE MODEL: \", accuracy_score(y_test, y_pred))\n",
    "    print()"
   ]
  },
  {
   "cell_type": "code",
   "execution_count": 32,
   "id": "d77262d6",
   "metadata": {
    "ExecuteTime": {
     "end_time": "2022-05-17T03:18:13.868207Z",
     "start_time": "2022-05-17T03:18:10.836566Z"
    }
   },
   "outputs": [],
   "source": [
    "for i in range(1,7):\n",
    "    img = cv2.imread(f\"Dataset2/{i}/1.jpg\")\n",
    "    cv2.imwrite(f\"Dataset2/{0}/i_1.jpg\", img)\n",
    "    img = cv2.cvtColor(img, cv2.COLOR_RGB2GRAY)\n",
    "    histr = cv2.calcHist([img],[0],None,[256],[0,256])\n",
    "    plt.plot(histr)\n",
    "    plt.savefig(f\"Dataset2/0/{i}_hist_before\")\n",
    "    plt.close()\n",
    "    cv2.imwrite(f\"Dataset2/0/{i}_1_1.jpg\", img)\n",
    "    img = hist_sliding(img)\n",
    "    histr = cv2.calcHist([img],[0],None,[256],[0,256])\n",
    "    plt.plot(histr)\n",
    "    plt.savefig(f\"Dataset2/0/{i}_hist_after\")\n",
    "    plt.close()\n",
    "    cv2.imwrite(f\"Dataset2/0/{i}_1_2.jpg\", img)\n",
    "    img = highpass(img, 5)\n",
    "    cv2.imwrite(f\"Dataset2/0/{i}_1_3.jpg\", img)\n",
    "    img = cv2.threshold(img, 0, 255, cv2.THRESH_BINARY | cv2.THRESH_OTSU)[1]\n",
    "    cv2.imwrite(f\"Dataset2/0/{i}_1_4.jpg\", img)"
   ]
  },
  {
   "cell_type": "markdown",
   "id": "5d9d5307",
   "metadata": {},
   "source": [
    "###### "
   ]
  }
 ],
 "metadata": {
  "kernelspec": {
   "display_name": "Python 3 (ipykernel)",
   "language": "python",
   "name": "python3"
  },
  "language_info": {
   "codemirror_mode": {
    "name": "ipython",
    "version": 3
   },
   "file_extension": ".py",
   "mimetype": "text/x-python",
   "name": "python",
   "nbconvert_exporter": "python",
   "pygments_lexer": "ipython3",
   "version": "3.8.10"
  },
  "toc": {
   "base_numbering": 1,
   "nav_menu": {},
   "number_sections": true,
   "sideBar": true,
   "skip_h1_title": false,
   "title_cell": "Table of Contents",
   "title_sidebar": "Contents",
   "toc_cell": false,
   "toc_position": {},
   "toc_section_display": true,
   "toc_window_display": false
  },
  "varInspector": {
   "cols": {
    "lenName": 16,
    "lenType": 16,
    "lenVar": 40
   },
   "kernels_config": {
    "python": {
     "delete_cmd_postfix": "",
     "delete_cmd_prefix": "del ",
     "library": "var_list.py",
     "varRefreshCmd": "print(var_dic_list())"
    },
    "r": {
     "delete_cmd_postfix": ") ",
     "delete_cmd_prefix": "rm(",
     "library": "var_list.r",
     "varRefreshCmd": "cat(var_dic_list()) "
    }
   },
   "types_to_exclude": [
    "module",
    "function",
    "builtin_function_or_method",
    "instance",
    "_Feature"
   ],
   "window_display": false
  }
 },
 "nbformat": 4,
 "nbformat_minor": 5
}
